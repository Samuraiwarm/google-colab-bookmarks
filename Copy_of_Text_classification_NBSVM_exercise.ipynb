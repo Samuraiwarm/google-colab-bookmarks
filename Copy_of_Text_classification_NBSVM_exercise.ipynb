{
  "nbformat": 4,
  "nbformat_minor": 0,
  "metadata": {
    "colab": {
      "name": "Copy of Text classification: NBSVM-exercise.ipynb",
      "provenance": [],
      "collapsed_sections": [
        "SQGpS-VCzv5H",
        "BWaLYS1GIv1G",
        "AXX04uj50WjA"
      ],
      "include_colab_link": true
    },
    "language_info": {
      "codemirror_mode": {
        "name": "ipython",
        "version": 3
      },
      "file_extension": ".py",
      "mimetype": "text/x-python",
      "name": "python",
      "nbconvert_exporter": "python",
      "pygments_lexer": "ipython3",
      "version": "3.6.1"
    },
    "kernelspec": {
      "display_name": "Python 3",
      "language": "python",
      "name": "python3"
    }
  },
  "cells": [
    {
      "cell_type": "markdown",
      "metadata": {
        "id": "view-in-github",
        "colab_type": "text"
      },
      "source": [
        "<a href=\"https://colab.research.google.com/github/Samuraiwarm/google-colab-bookmarks/blob/master/Copy_of_Text_classification_NBSVM_exercise.ipynb\" target=\"_parent\"><img src=\"https://colab.research.google.com/assets/colab-badge.svg\" alt=\"Open In Colab\"/></a>"
      ]
    },
    {
      "cell_type": "markdown",
      "metadata": {
        "id": "iDmWisvez78g",
        "colab_type": "text"
      },
      "source": [
        "# Intent classification\n",
        "In this lab, you will work on intent classification of phone calls using NBSVM and its variant. Data is provided courtesy of TrueVoice and should be used for education purposes only. The data have been anonymized. "
      ]
    },
    {
      "cell_type": "markdown",
      "metadata": {
        "id": "Tbe3bUzDYYVQ",
        "colab_type": "text"
      },
      "source": [
        "## Download the dataset\n"
      ]
    },
    {
      "cell_type": "code",
      "metadata": {
        "id": "AfONgk0lYduK",
        "colab_type": "code",
        "outputId": "da77af32-cbf7-4aab-d3cc-8f15b72bf7b7",
        "colab": {
          "base_uri": "https://localhost:8080/",
          "height": 558
        }
      },
      "source": [
        "!wget --no-check-certificate https://www.dropbox.com/s/37u83g55p19kvrl/clean-phone-data-for-students.csv\n",
        "!head clean-phone-data-for-students.csv"
      ],
      "execution_count": 0,
      "outputs": [
        {
          "output_type": "stream",
          "text": [
            "--2019-09-21 07:13:28--  https://www.dropbox.com/s/37u83g55p19kvrl/clean-phone-data-for-students.csv\n",
            "Resolving www.dropbox.com (www.dropbox.com)... 162.125.9.1, 2620:100:601f:1::a27d:901\n",
            "Connecting to www.dropbox.com (www.dropbox.com)|162.125.9.1|:443... connected.\n",
            "HTTP request sent, awaiting response... 301 Moved Permanently\n",
            "Location: /s/raw/37u83g55p19kvrl/clean-phone-data-for-students.csv [following]\n",
            "--2019-09-21 07:13:29--  https://www.dropbox.com/s/raw/37u83g55p19kvrl/clean-phone-data-for-students.csv\n",
            "Reusing existing connection to www.dropbox.com:443.\n",
            "HTTP request sent, awaiting response... 302 Found\n",
            "Location: https://ucc21252a1a331ba116e1fc9fa37.dl.dropboxusercontent.com/cd/0/inline/Ao8QCz08T61YUB3IgxswXKKX-thS57L201JP65D7hUlu2mszE0-PicGTPd0kytECQ27egOz3wyP4ZPmFimfk8Ey7nrkEnVuRwk6Q-MZbMwBHpA/file# [following]\n",
            "--2019-09-21 07:13:29--  https://ucc21252a1a331ba116e1fc9fa37.dl.dropboxusercontent.com/cd/0/inline/Ao8QCz08T61YUB3IgxswXKKX-thS57L201JP65D7hUlu2mszE0-PicGTPd0kytECQ27egOz3wyP4ZPmFimfk8Ey7nrkEnVuRwk6Q-MZbMwBHpA/file\n",
            "Resolving ucc21252a1a331ba116e1fc9fa37.dl.dropboxusercontent.com (ucc21252a1a331ba116e1fc9fa37.dl.dropboxusercontent.com)... 162.125.9.6, 2620:100:601f:6::a27d:906\n",
            "Connecting to ucc21252a1a331ba116e1fc9fa37.dl.dropboxusercontent.com (ucc21252a1a331ba116e1fc9fa37.dl.dropboxusercontent.com)|162.125.9.6|:443... connected.\n",
            "HTTP request sent, awaiting response... 200 OK\n",
            "Length: 2518977 (2.4M) [text/plain]\n",
            "Saving to: ‘clean-phone-data-for-students.csv.2’\n",
            "\n",
            "\r          clean-pho   0%[                    ]       0  --.-KB/s               \rclean-phone-data-fo 100%[===================>]   2.40M  15.6MB/s    in 0.2s    \n",
            "\n",
            "2019-09-21 07:13:30 (15.6 MB/s) - ‘clean-phone-data-for-students.csv.2’ saved [2518977/2518977]\n",
            "\n",
            "Sentence Utterance,Action,Object\n",
            " <PHONE_NUMBER_REMOVED> ผมไปจ่ายเงินที่ Counter Services เค้าเช็ต 3276.25 บาท เมื่อวานที่ผมเช็คที่ศูนย์บอกมียอด 3057.79 บาท,enquire,payment\n",
            " internet ยังความเร็วอยุ่เท่าไหร ครับ,enquire,package\n",
            " ตะกี้ไปชำระค่าบริการไปแล้ว แต่ยังใช้งานไม่ได้ ค่ะ,report,suspend\n",
            " พี่ค่ะยังใช้ internet ไม่ได้เลยค่ะ เป็นเครื่อง โกลไล,enquire,internet\n",
            " ฮาโหล คะ พอดีว่าเมื่อวานเปิดซิมทรูมูฟ แต่มันโทรออกไม่ได้คะ แต่เล่นเนตได้คะ,report,phone_issues\n",
            "*2222 ใช้งานยังไง ขอรายละเอียดการสมัครหน่อย,enquire,service\n",
            "<PHONE_NUMBER_REMOVED> เคยมีช่างมาซ่อมที่บ้าน แล้วโทรศัพท์ใช้งานไม่ได้ครับ,enquire,nonTrueMove\n",
            "<PHONE_NUMBER_REMOVED> ค้างค่าบริการเท่าไหร่ครับ,enquire,balance\n",
            "<PHONE_NUMBER_REMOVED> อินเตอร์เน็ตไฟ Adsl ไม่มีสัญญาณครับ,enquire,nonTrueMove\n"
          ],
          "name": "stdout"
        }
      ]
    },
    {
      "cell_type": "markdown",
      "metadata": {
        "id": "SAP4797wVra2",
        "colab_type": "text"
      },
      "source": [
        "## Import Libs"
      ]
    },
    {
      "cell_type": "code",
      "metadata": {
        "id": "Cr0w8VcUYiCK",
        "colab_type": "code",
        "outputId": "2786f07f-b9ce-4f5a-8a1e-bd23f2d6644d",
        "colab": {
          "base_uri": "https://localhost:8080/",
          "height": 243
        }
      },
      "source": [
        "!pip install pythainlp"
      ],
      "execution_count": 0,
      "outputs": [
        {
          "output_type": "stream",
          "text": [
            "Requirement already satisfied: pythainlp in /usr/local/lib/python3.6/dist-packages (2.0.7)\n",
            "Requirement already satisfied: marisa-trie in /usr/local/lib/python3.6/dist-packages (from pythainlp) (0.7.5)\n",
            "Requirement already satisfied: requests in /usr/local/lib/python3.6/dist-packages (from pythainlp) (2.21.0)\n",
            "Requirement already satisfied: tinydb in /usr/local/lib/python3.6/dist-packages (from pythainlp) (3.14.1)\n",
            "Requirement already satisfied: nltk>=3.2.2 in /usr/local/lib/python3.6/dist-packages (from pythainlp) (3.2.5)\n",
            "Requirement already satisfied: pytz in /usr/local/lib/python3.6/dist-packages (from pythainlp) (2018.9)\n",
            "Requirement already satisfied: dill in /usr/local/lib/python3.6/dist-packages (from pythainlp) (0.3.0)\n",
            "Requirement already satisfied: tqdm in /usr/local/lib/python3.6/dist-packages (from pythainlp) (4.28.1)\n",
            "Requirement already satisfied: chardet<3.1.0,>=3.0.2 in /usr/local/lib/python3.6/dist-packages (from requests->pythainlp) (3.0.4)\n",
            "Requirement already satisfied: certifi>=2017.4.17 in /usr/local/lib/python3.6/dist-packages (from requests->pythainlp) (2019.6.16)\n",
            "Requirement already satisfied: urllib3<1.25,>=1.21.1 in /usr/local/lib/python3.6/dist-packages (from requests->pythainlp) (1.24.3)\n",
            "Requirement already satisfied: idna<2.9,>=2.5 in /usr/local/lib/python3.6/dist-packages (from requests->pythainlp) (2.8)\n",
            "Requirement already satisfied: six in /usr/local/lib/python3.6/dist-packages (from nltk>=3.2.2->pythainlp) (1.12.0)\n"
          ],
          "name": "stdout"
        }
      ]
    },
    {
      "cell_type": "code",
      "metadata": {
        "id": "Brv0Av5dVra9",
        "colab_type": "code",
        "colab": {}
      },
      "source": [
        "%matplotlib inline\n",
        "import pandas as pd\n",
        "import sklearn\n",
        "import numpy as np\n",
        "from IPython.display import display\n",
        "import matplotlib.pyplot as plt\n",
        "import pythainlp\n",
        "from sklearn.feature_extraction.text import CountVectorizer, TfidfVectorizer\n",
        "\n",
        "from sklearn.linear_model import LogisticRegression\n",
        "from sklearn import svm\n",
        "from sklearn.calibration import CalibratedClassifierCV"
      ],
      "execution_count": 0,
      "outputs": []
    },
    {
      "cell_type": "markdown",
      "metadata": {
        "id": "C9eQnFckVrbR",
        "colab_type": "text"
      },
      "source": [
        "## Loading data\n",
        "First, we load the data from disk into a Dataframe.\n",
        "\n",
        "A Dataframe is essentially a table, or 2D-array/Matrix with a name for each column.\n",
        "\n",
        "**Note: the data is provided courtesy of TrueVoice and must be used for educational purposes only**"
      ]
    },
    {
      "cell_type": "code",
      "metadata": {
        "id": "ZszB64iGVrbW",
        "colab_type": "code",
        "colab": {}
      },
      "source": [
        "phone_df = pd.read_csv('clean-phone-data-for-students.csv')"
      ],
      "execution_count": 0,
      "outputs": []
    },
    {
      "cell_type": "markdown",
      "metadata": {
        "id": "nSaJBJAJVrbr",
        "colab_type": "text"
      },
      "source": [
        "Let's preview the data."
      ]
    },
    {
      "cell_type": "code",
      "metadata": {
        "id": "GiOrGIn2Vrbz",
        "colab_type": "code",
        "outputId": "49c3c3b0-4551-4838-da4a-5a013e15d2a3",
        "colab": {
          "base_uri": "https://localhost:8080/",
          "height": 364
        }
      },
      "source": [
        "# Show the top 5 rows\n",
        "display(phone_df.head())\n",
        "# Summarize the data\n",
        "phone_df.describe()"
      ],
      "execution_count": 0,
      "outputs": [
        {
          "output_type": "display_data",
          "data": {
            "text/html": [
              "<div>\n",
              "<style scoped>\n",
              "    .dataframe tbody tr th:only-of-type {\n",
              "        vertical-align: middle;\n",
              "    }\n",
              "\n",
              "    .dataframe tbody tr th {\n",
              "        vertical-align: top;\n",
              "    }\n",
              "\n",
              "    .dataframe thead th {\n",
              "        text-align: right;\n",
              "    }\n",
              "</style>\n",
              "<table border=\"1\" class=\"dataframe\">\n",
              "  <thead>\n",
              "    <tr style=\"text-align: right;\">\n",
              "      <th></th>\n",
              "      <th>Sentence Utterance</th>\n",
              "      <th>Action</th>\n",
              "      <th>Object</th>\n",
              "    </tr>\n",
              "  </thead>\n",
              "  <tbody>\n",
              "    <tr>\n",
              "      <th>0</th>\n",
              "      <td>&lt;PHONE_NUMBER_REMOVED&gt; ผมไปจ่ายเงินที่ Counte...</td>\n",
              "      <td>enquire</td>\n",
              "      <td>payment</td>\n",
              "    </tr>\n",
              "    <tr>\n",
              "      <th>1</th>\n",
              "      <td>internet ยังความเร็วอยุ่เท่าไหร ครับ</td>\n",
              "      <td>enquire</td>\n",
              "      <td>package</td>\n",
              "    </tr>\n",
              "    <tr>\n",
              "      <th>2</th>\n",
              "      <td>ตะกี้ไปชำระค่าบริการไปแล้ว แต่ยังใช้งานไม่ได้...</td>\n",
              "      <td>report</td>\n",
              "      <td>suspend</td>\n",
              "    </tr>\n",
              "    <tr>\n",
              "      <th>3</th>\n",
              "      <td>พี่ค่ะยังใช้ internet ไม่ได้เลยค่ะ เป็นเครื่อ...</td>\n",
              "      <td>enquire</td>\n",
              "      <td>internet</td>\n",
              "    </tr>\n",
              "    <tr>\n",
              "      <th>4</th>\n",
              "      <td>ฮาโหล คะ พอดีว่าเมื่อวานเปิดซิมทรูมูฟ แต่มันโ...</td>\n",
              "      <td>report</td>\n",
              "      <td>phone_issues</td>\n",
              "    </tr>\n",
              "  </tbody>\n",
              "</table>\n",
              "</div>"
            ],
            "text/plain": [
              "                                  Sentence Utterance   Action        Object\n",
              "0   <PHONE_NUMBER_REMOVED> ผมไปจ่ายเงินที่ Counte...  enquire       payment\n",
              "1               internet ยังความเร็วอยุ่เท่าไหร ครับ  enquire       package\n",
              "2   ตะกี้ไปชำระค่าบริการไปแล้ว แต่ยังใช้งานไม่ได้...   report       suspend\n",
              "3   พี่ค่ะยังใช้ internet ไม่ได้เลยค่ะ เป็นเครื่อ...  enquire      internet\n",
              "4   ฮาโหล คะ พอดีว่าเมื่อวานเปิดซิมทรูมูฟ แต่มันโ...   report  phone_issues"
            ]
          },
          "metadata": {
            "tags": []
          }
        },
        {
          "output_type": "execute_result",
          "data": {
            "text/html": [
              "<div>\n",
              "<style scoped>\n",
              "    .dataframe tbody tr th:only-of-type {\n",
              "        vertical-align: middle;\n",
              "    }\n",
              "\n",
              "    .dataframe tbody tr th {\n",
              "        vertical-align: top;\n",
              "    }\n",
              "\n",
              "    .dataframe thead th {\n",
              "        text-align: right;\n",
              "    }\n",
              "</style>\n",
              "<table border=\"1\" class=\"dataframe\">\n",
              "  <thead>\n",
              "    <tr style=\"text-align: right;\">\n",
              "      <th></th>\n",
              "      <th>Sentence Utterance</th>\n",
              "      <th>Action</th>\n",
              "      <th>Object</th>\n",
              "    </tr>\n",
              "  </thead>\n",
              "  <tbody>\n",
              "    <tr>\n",
              "      <th>count</th>\n",
              "      <td>16175</td>\n",
              "      <td>16175</td>\n",
              "      <td>16175</td>\n",
              "    </tr>\n",
              "    <tr>\n",
              "      <th>unique</th>\n",
              "      <td>13389</td>\n",
              "      <td>10</td>\n",
              "      <td>33</td>\n",
              "    </tr>\n",
              "    <tr>\n",
              "      <th>top</th>\n",
              "      <td>บริการอื่นๆ</td>\n",
              "      <td>enquire</td>\n",
              "      <td>service</td>\n",
              "    </tr>\n",
              "    <tr>\n",
              "      <th>freq</th>\n",
              "      <td>97</td>\n",
              "      <td>10377</td>\n",
              "      <td>2525</td>\n",
              "    </tr>\n",
              "  </tbody>\n",
              "</table>\n",
              "</div>"
            ],
            "text/plain": [
              "       Sentence Utterance   Action   Object\n",
              "count               16175    16175    16175\n",
              "unique              13389       10       33\n",
              "top           บริการอื่นๆ  enquire  service\n",
              "freq                   97    10377     2525"
            ]
          },
          "metadata": {
            "tags": []
          },
          "execution_count": 6
        }
      ]
    },
    {
      "cell_type": "markdown",
      "metadata": {
        "id": "8vv9VJsiVrcZ",
        "colab_type": "text"
      },
      "source": [
        "## Data cleaning\n",
        "\n",
        "We first select only the columns we are interested.\n",
        "\n",
        "For this example we will be training a model to predict the \"Object\" given a \"Sentence Utterance\". Thus we will be only selecting these two. Others can also be selected, but these two will serve as an example.\n",
        "\n",
        "We call the DataFrame.describe() again.\n",
        "Notice that there are 33 unique labels/classes that the model will try to predict.\n",
        "But there are unwanted duplications e.g. Idd,idd,lotalty_card,Lotalty_card"
      ]
    },
    {
      "cell_type": "code",
      "metadata": {
        "id": "VroslKn9Vrcf",
        "colab_type": "code",
        "outputId": "2cdaceb8-b111-427f-8266-8791b58d47f0",
        "colab": {
          "base_uri": "https://localhost:8080/",
          "height": 296
        }
      },
      "source": [
        "data_df = phone_df[[\"Sentence Utterance\", \"Object\"]]\n",
        "data_df.columns = ['input', 'raw_label']\n",
        "display(data_df.describe())\n",
        "display(data_df.raw_label.unique())"
      ],
      "execution_count": 0,
      "outputs": [
        {
          "output_type": "display_data",
          "data": {
            "text/html": [
              "<div>\n",
              "<style scoped>\n",
              "    .dataframe tbody tr th:only-of-type {\n",
              "        vertical-align: middle;\n",
              "    }\n",
              "\n",
              "    .dataframe tbody tr th {\n",
              "        vertical-align: top;\n",
              "    }\n",
              "\n",
              "    .dataframe thead th {\n",
              "        text-align: right;\n",
              "    }\n",
              "</style>\n",
              "<table border=\"1\" class=\"dataframe\">\n",
              "  <thead>\n",
              "    <tr style=\"text-align: right;\">\n",
              "      <th></th>\n",
              "      <th>input</th>\n",
              "      <th>raw_label</th>\n",
              "    </tr>\n",
              "  </thead>\n",
              "  <tbody>\n",
              "    <tr>\n",
              "      <th>count</th>\n",
              "      <td>16175</td>\n",
              "      <td>16175</td>\n",
              "    </tr>\n",
              "    <tr>\n",
              "      <th>unique</th>\n",
              "      <td>13389</td>\n",
              "      <td>33</td>\n",
              "    </tr>\n",
              "    <tr>\n",
              "      <th>top</th>\n",
              "      <td>บริการอื่นๆ</td>\n",
              "      <td>service</td>\n",
              "    </tr>\n",
              "    <tr>\n",
              "      <th>freq</th>\n",
              "      <td>97</td>\n",
              "      <td>2525</td>\n",
              "    </tr>\n",
              "  </tbody>\n",
              "</table>\n",
              "</div>"
            ],
            "text/plain": [
              "              input raw_label\n",
              "count         16175     16175\n",
              "unique        13389        33\n",
              "top     บริการอื่นๆ   service\n",
              "freq             97      2525"
            ]
          },
          "metadata": {
            "tags": []
          }
        },
        {
          "output_type": "display_data",
          "data": {
            "text/plain": [
              "array(['payment', 'package', 'suspend', 'internet', 'phone_issues',\n",
              "       'service', 'nonTrueMove', 'balance', 'detail', 'bill', 'credit',\n",
              "       'promotion', 'mobile_setting', 'iservice', 'roaming', 'truemoney',\n",
              "       'information', 'lost_stolen', 'balance_minutes', 'idd',\n",
              "       'TrueMoney', 'garbage', 'Payment', 'IDD', 'ringtone', 'Idd',\n",
              "       'rate', 'loyalty_card', 'contact', 'officer', 'Balance', 'Service',\n",
              "       'Loyalty_card'], dtype=object)"
            ]
          },
          "metadata": {
            "tags": []
          }
        }
      ]
    },
    {
      "cell_type": "markdown",
      "metadata": {
        "id": "0TJhZJKRVrcr",
        "colab_type": "text"
      },
      "source": [
        "### Removing duplicated labels\n",
        "\n",
        "from above, we can see that there are 33 unique labels\n",
        "\n",
        "But we want to make sure that these label are really unique from one another not just how capital letters are used"
      ]
    },
    {
      "cell_type": "code",
      "metadata": {
        "scrolled": false,
        "id": "-c09i9ALVrcv",
        "colab_type": "code",
        "outputId": "ee046d1f-eb5a-4448-bf06-3b19a148ef30",
        "colab": {
          "base_uri": "https://localhost:8080/",
          "height": 279
        }
      },
      "source": [
        "data_df['clean_label']=data_df['raw_label'].str.lower().copy()\n",
        "display(data_df.describe())\n",
        "display(data_df.clean_label.unique())\n",
        "\n"
      ],
      "execution_count": 0,
      "outputs": [
        {
          "output_type": "display_data",
          "data": {
            "text/html": [
              "<div>\n",
              "<style scoped>\n",
              "    .dataframe tbody tr th:only-of-type {\n",
              "        vertical-align: middle;\n",
              "    }\n",
              "\n",
              "    .dataframe tbody tr th {\n",
              "        vertical-align: top;\n",
              "    }\n",
              "\n",
              "    .dataframe thead th {\n",
              "        text-align: right;\n",
              "    }\n",
              "</style>\n",
              "<table border=\"1\" class=\"dataframe\">\n",
              "  <thead>\n",
              "    <tr style=\"text-align: right;\">\n",
              "      <th></th>\n",
              "      <th>input</th>\n",
              "      <th>raw_label</th>\n",
              "      <th>clean_label</th>\n",
              "    </tr>\n",
              "  </thead>\n",
              "  <tbody>\n",
              "    <tr>\n",
              "      <th>count</th>\n",
              "      <td>16175</td>\n",
              "      <td>16175</td>\n",
              "      <td>16175</td>\n",
              "    </tr>\n",
              "    <tr>\n",
              "      <th>unique</th>\n",
              "      <td>13389</td>\n",
              "      <td>33</td>\n",
              "      <td>26</td>\n",
              "    </tr>\n",
              "    <tr>\n",
              "      <th>top</th>\n",
              "      <td>บริการอื่นๆ</td>\n",
              "      <td>service</td>\n",
              "      <td>service</td>\n",
              "    </tr>\n",
              "    <tr>\n",
              "      <th>freq</th>\n",
              "      <td>97</td>\n",
              "      <td>2525</td>\n",
              "      <td>2528</td>\n",
              "    </tr>\n",
              "  </tbody>\n",
              "</table>\n",
              "</div>"
            ],
            "text/plain": [
              "              input raw_label clean_label\n",
              "count         16175     16175       16175\n",
              "unique        13389        33          26\n",
              "top     บริการอื่นๆ   service     service\n",
              "freq             97      2525        2528"
            ]
          },
          "metadata": {
            "tags": []
          }
        },
        {
          "output_type": "display_data",
          "data": {
            "text/plain": [
              "array(['payment', 'package', 'suspend', 'internet', 'phone_issues',\n",
              "       'service', 'nontruemove', 'balance', 'detail', 'bill', 'credit',\n",
              "       'promotion', 'mobile_setting', 'iservice', 'roaming', 'truemoney',\n",
              "       'information', 'lost_stolen', 'balance_minutes', 'idd', 'garbage',\n",
              "       'ringtone', 'rate', 'loyalty_card', 'contact', 'officer'],\n",
              "      dtype=object)"
            ]
          },
          "metadata": {
            "tags": []
          }
        }
      ]
    },
    {
      "cell_type": "code",
      "metadata": {
        "id": "fd7F1mhKVrdO",
        "colab_type": "code",
        "outputId": "c675d63d-f873-4e77-d536-cca5d8c36349",
        "colab": {
          "base_uri": "https://localhost:8080/",
          "height": 175
        }
      },
      "source": [
        "#we no longer need raw_label column\n",
        "data_df.drop('raw_label', axis=1, inplace=True)\n",
        "display(data_df.describe())"
      ],
      "execution_count": 0,
      "outputs": [
        {
          "output_type": "display_data",
          "data": {
            "text/html": [
              "<div>\n",
              "<style scoped>\n",
              "    .dataframe tbody tr th:only-of-type {\n",
              "        vertical-align: middle;\n",
              "    }\n",
              "\n",
              "    .dataframe tbody tr th {\n",
              "        vertical-align: top;\n",
              "    }\n",
              "\n",
              "    .dataframe thead th {\n",
              "        text-align: right;\n",
              "    }\n",
              "</style>\n",
              "<table border=\"1\" class=\"dataframe\">\n",
              "  <thead>\n",
              "    <tr style=\"text-align: right;\">\n",
              "      <th></th>\n",
              "      <th>input</th>\n",
              "      <th>clean_label</th>\n",
              "    </tr>\n",
              "  </thead>\n",
              "  <tbody>\n",
              "    <tr>\n",
              "      <th>count</th>\n",
              "      <td>16175</td>\n",
              "      <td>16175</td>\n",
              "    </tr>\n",
              "    <tr>\n",
              "      <th>unique</th>\n",
              "      <td>13389</td>\n",
              "      <td>26</td>\n",
              "    </tr>\n",
              "    <tr>\n",
              "      <th>top</th>\n",
              "      <td>บริการอื่นๆ</td>\n",
              "      <td>service</td>\n",
              "    </tr>\n",
              "    <tr>\n",
              "      <th>freq</th>\n",
              "      <td>97</td>\n",
              "      <td>2528</td>\n",
              "    </tr>\n",
              "  </tbody>\n",
              "</table>\n",
              "</div>"
            ],
            "text/plain": [
              "              input clean_label\n",
              "count         16175       16175\n",
              "unique        13389          26\n",
              "top     บริการอื่นๆ     service\n",
              "freq             97        2528"
            ]
          },
          "metadata": {
            "tags": []
          }
        }
      ]
    },
    {
      "cell_type": "markdown",
      "metadata": {
        "id": "2d4iOUYwVrdi",
        "colab_type": "text"
      },
      "source": [
        "### Remove duplicates input\n",
        "\n",
        "There are some duplicates in the input of this dataset."
      ]
    },
    {
      "cell_type": "code",
      "metadata": {
        "id": "jSX04jpQVrdt",
        "colab_type": "code",
        "outputId": "fd2747fc-66f7-4535-b237-515863735804",
        "colab": {
          "base_uri": "https://localhost:8080/",
          "height": 1000
        }
      },
      "source": [
        "display(data_df[data_df.duplicated(keep=False)]['input'])"
      ],
      "execution_count": 0,
      "outputs": [
        {
          "output_type": "display_data",
          "data": {
            "text/plain": [
              "18       <PHONE_NUMBER_REMOVED> เป็นหมายเลขของเครือข่าย...\n",
              "19       <PHONE_NUMBER_REMOVED> เป็นหมายเลขของเครือข่าย...\n",
              "35       <PHONE_NUMBER_REMOVED> เป็นเติมเงินนะคะ เดี๋ยว...\n",
              "36       <PHONE_NUMBER_REMOVED> เป็นเติมเงินนะคะ เดี๋ยว...\n",
              "52               3g wifi edge ตอนนี้มีโปรโมชั่นอะไรบ้างค่ะ\n",
              "53               3g wifi edge ตอนนี้มีโปรโมชั่นอะไรบ้างค่ะ\n",
              "54               3g wifi edge ตอนนี้มีโปรโมชั่นอะไรบ้างค่ะ\n",
              "73                   iphone ย้ายค่ายจะใช้โปร 799 ได้ไหมค่ะ\n",
              "74                   iphone ย้ายค่ายจะใช้โปร 799 ได้ไหมค่ะ\n",
              "75                   iphone ย้ายค่ายจะใช้โปร 799 ได้ไหมค่ะ\n",
              "78                  sim ของผมมันหักตังมันสมัครอะไรอยู่ครับ\n",
              "79                  sim ของผมมันหักตังมันสมัครอะไรอยู่ครับ\n",
              "80                                         sim มันล็อคครับ\n",
              "81                                         sim มันล็อคครับ\n",
              "85                                   swap แมค เป็น แอด แมค\n",
              "86                                   swap แมค เป็น แอด แมค\n",
              "114      เคยโทรไปแจ้งปัญหาเกี่ยวกับโบนัสอ่ะค่ะ เขาบอกว่...\n",
              "115      เคยโทรไปแจ้งปัญหาเกี่ยวกับโบนัสอ่ะค่ะ เขาบอกว่...\n",
              "117      เคยใช้แพ็คเกจ 399 อยู่นะค่ะ แล้วไม่ได้ใช้มา <P...\n",
              "118      เคยใช้แพ็คเกจ 399 อยู่นะค่ะ แล้วไม่ได้ใช้มา <P...\n",
              "127                เครื่องโดนขโมยไปเมื่อเช้าจะปิดบริการค่ะ\n",
              "128                เครื่องโดนขโมยไปเมื่อเช้าจะปิดบริการค่ะ\n",
              "134         เครื่องของผมกดรหัส pin ผิด 3 ครั้ง มันขึ้น puk\n",
              "135         เครื่องของผมกดรหัส pin ผิด 3 ครั้ง มันขึ้น puk\n",
              "148                                             เครื่องหาย\n",
              "156      เช็คเบอร์ <PHONE_NUMBER_REMOVED> ให้พี่หน่อยมั...\n",
              "157      เช็คเบอร์ <PHONE_NUMBER_REMOVED> ให้พี่หน่อยมั...\n",
              "167      เช็คให้หน่อยค่ะ ว่าเบอร์ 083 0991519 ทำไมถึงโท...\n",
              "168      เช็คให้หน่อยค่ะ ว่าเบอร์ 083 0991519 ทำไมถึงโท...\n",
              "174      เช็คค่ายอดค้างชำระมา มีข้อสงสัยว่าทำมั้ยบางเดื...\n",
              "                               ...                        \n",
              "16095                                     ประวัติการใช้งาน\n",
              "16099                                              ขอสำเนา\n",
              "16101                                     เปลี่ยนโปรโมชั่น\n",
              "16103                                            โปรโมชั่น\n",
              "16104                          เชื่อมต่ออินเตอร์เน็ตไม่ได้\n",
              "16115                                          บริการอื่นๆ\n",
              "16117                             การเชื่อมต่ออินเตอร์เน็ต\n",
              "16120                                      สมัครแพคเกจไวไฟ\n",
              "16122                                        โปรโมชั่นบีบี\n",
              "16127                          สอบถามค่าบริการดาต้าโรมมิ่ง\n",
              "16131                                          บริการอื่นๆ\n",
              "16134                                  ไม่มีสัญญาณสามจีค่ะ\n",
              "16136                                            โปรโมชั่น\n",
              "16140                                          ระงับสัญญาณ\n",
              "16145                               เติมเงินแล้วไม่เข้าค่ะ\n",
              "16146                               เติมเงินแล้วไม่เข้าค่ะ\n",
              "16147                                  โทรออกต่างประเทศค่ะ\n",
              "16150                          ใช้งานอินเตอร์เน็ตไม่ได้ค่ะ\n",
              "16153                                           ตั้งโอนสาย\n",
              "16155                         ต้องการระงับสัญญาณเครื่องหาย\n",
              "16156                                       เพิ่มวงเงินค่ะ\n",
              "16158                         เปิดปิดการใช้งานอินเตอร์เน็ต\n",
              "16160                                        เครื่องหายค่ะ\n",
              "16161                                    สอบถามยอดค้างชำระ\n",
              "16163                                           เครื่องหาย\n",
              "16165                                         ดาต้าโรมมิ่ง\n",
              "16166                                สอบถามยอดค่าบริการค่ะ\n",
              "16168                          ใช้งานอินเตอร์เน็ตไม่ได้ค่ะ\n",
              "16169                          ใช้งานอินเตอร์เน็ตไม่ได้ค่ะ\n",
              "16171                                  โทรออกต่างประเทศค่ะ\n",
              "Name: input, Length: 4376, dtype: object"
            ]
          },
          "metadata": {
            "tags": []
          }
        }
      ]
    },
    {
      "cell_type": "markdown",
      "metadata": {
        "id": "3HZw0gRdVreG",
        "colab_type": "text"
      },
      "source": [
        "As you can see above, we no longer have unwanted duplicated in our labels\n",
        "\n",
        "But there are still duplicates in our input. 7 rows with \"สอบถามยอดค้างชำระค่ะ\"\n",
        "\n",
        "We will remove them now, by keeping only the first entry."
      ]
    },
    {
      "cell_type": "code",
      "metadata": {
        "id": "-pCEP4FwVreK",
        "colab_type": "code",
        "outputId": "05c765bd-b2d7-43e1-8ae9-a0a678c9ad3d",
        "colab": {
          "base_uri": "https://localhost:8080/",
          "height": 175
        }
      },
      "source": [
        "data_df = data_df.drop_duplicates(\"input\", keep=\"first\")\n",
        "display(data_df.describe())"
      ],
      "execution_count": 0,
      "outputs": [
        {
          "output_type": "display_data",
          "data": {
            "text/html": [
              "<div>\n",
              "<style scoped>\n",
              "    .dataframe tbody tr th:only-of-type {\n",
              "        vertical-align: middle;\n",
              "    }\n",
              "\n",
              "    .dataframe tbody tr th {\n",
              "        vertical-align: top;\n",
              "    }\n",
              "\n",
              "    .dataframe thead th {\n",
              "        text-align: right;\n",
              "    }\n",
              "</style>\n",
              "<table border=\"1\" class=\"dataframe\">\n",
              "  <thead>\n",
              "    <tr style=\"text-align: right;\">\n",
              "      <th></th>\n",
              "      <th>input</th>\n",
              "      <th>clean_label</th>\n",
              "    </tr>\n",
              "  </thead>\n",
              "  <tbody>\n",
              "    <tr>\n",
              "      <th>count</th>\n",
              "      <td>13389</td>\n",
              "      <td>13389</td>\n",
              "    </tr>\n",
              "    <tr>\n",
              "      <th>unique</th>\n",
              "      <td>13389</td>\n",
              "      <td>26</td>\n",
              "    </tr>\n",
              "    <tr>\n",
              "      <th>top</th>\n",
              "      <td>อยากทราบว่าบิลที่เค้าแจ้งมา ต้องจ่ายไปก่อนหรือ...</td>\n",
              "      <td>service</td>\n",
              "    </tr>\n",
              "    <tr>\n",
              "      <th>freq</th>\n",
              "      <td>1</td>\n",
              "      <td>2111</td>\n",
              "    </tr>\n",
              "  </tbody>\n",
              "</table>\n",
              "</div>"
            ],
            "text/plain": [
              "                                                    input clean_label\n",
              "count                                               13389       13389\n",
              "unique                                              13389          26\n",
              "top     อยากทราบว่าบิลที่เค้าแจ้งมา ต้องจ่ายไปก่อนหรือ...     service\n",
              "freq                                                    1        2111"
            ]
          },
          "metadata": {
            "tags": []
          }
        }
      ]
    },
    {
      "cell_type": "markdown",
      "metadata": {
        "id": "dIrShb2C0UH3",
        "colab_type": "text"
      },
      "source": [
        "### Convert to one-hot "
      ]
    },
    {
      "cell_type": "code",
      "metadata": {
        "id": "E_9mir-azJ4j",
        "colab_type": "code",
        "colab": {}
      },
      "source": [
        "data_df['clean_label'] = pd.Categorical(data_df['clean_label'])\n",
        "dfDummies = pd.get_dummies(data_df['clean_label'])\n",
        "data_df=pd.concat([data_df,dfDummies], axis=1)"
      ],
      "execution_count": 0,
      "outputs": []
    },
    {
      "cell_type": "markdown",
      "metadata": {
        "id": "Io8dg7Mc5WQW",
        "colab_type": "text"
      },
      "source": [
        "### Trim whitestring"
      ]
    },
    {
      "cell_type": "code",
      "metadata": {
        "id": "WM2BFLyj5Yn7",
        "colab_type": "code",
        "colab": {}
      },
      "source": [
        "data_df['input'] = data_df['input'].apply(lambda x: x.strip() )"
      ],
      "execution_count": 0,
      "outputs": []
    },
    {
      "cell_type": "code",
      "metadata": {
        "id": "evGhBV6X5qKh",
        "colab_type": "code",
        "colab": {}
      },
      "source": [
        "unique_label = data_df.clean_label.unique()"
      ],
      "execution_count": 0,
      "outputs": []
    },
    {
      "cell_type": "markdown",
      "metadata": {
        "id": "XMFmklVNVrfG",
        "colab_type": "text"
      },
      "source": [
        "### Visualize Class Count\n",
        "\n",
        "We will now visualize the class imbalance. Note that training directly on imbalance dataset can yield bad results. "
      ]
    },
    {
      "cell_type": "code",
      "metadata": {
        "id": "cADHdhekVrfJ",
        "colab_type": "code",
        "outputId": "0343de52-2845-40e4-a226-7fd55300fd5c",
        "colab": {
          "base_uri": "https://localhost:8080/",
          "height": 750
        }
      },
      "source": [
        "def plot(label, count):\n",
        "    fig, ax = plt.subplots()\n",
        "    ind = np.arange(len(count))\n",
        "    rects1 = ax.bar(ind, count, 0.5)\n",
        "\n",
        "    ax.set_ylabel('Count')\n",
        "    ax.set_title('Count for each class')\n",
        "    ax.set_xticks(ind)\n",
        "    ax.set_xticklabels(label,rotation='vertical')\n",
        "\n",
        "    plt.show()\n",
        "data = np.array(data_df.as_matrix(), copy=True)  \n",
        "label, count = np.unique(data[:, 1], return_counts=True)\n",
        "plot(label, count)\n",
        "\n",
        "# pack the label and count together\n",
        "bundle = list(zip(label, count))\n",
        "# sort them by count\n",
        "bundle = sorted(bundle, key=lambda e: e[1], reverse=True) \n",
        "# unpack the values\n",
        "label, count = zip(*bundle)\n",
        "plot(label, count)"
      ],
      "execution_count": 0,
      "outputs": [
        {
          "output_type": "stream",
          "text": [
            "/usr/local/lib/python3.6/dist-packages/ipykernel_launcher.py:12: FutureWarning: Method .as_matrix will be removed in a future version. Use .values instead.\n",
            "  if sys.path[0] == '':\n"
          ],
          "name": "stderr"
        },
        {
          "output_type": "display_data",
          "data": {
            "image/png": "[encoded data removed]",
            "text/plain": [
              "<Figure size 432x288 with 1 Axes>"
            ]
          },
          "metadata": {
            "tags": []
          }
        },
        {
          "output_type": "display_data",
          "data": {
            "image/png": "[encoded data removed]",
            "text/plain": [
              "<Figure size 432x288 with 1 Axes>"
            ]
          },
          "metadata": {
            "tags": []
          }
        }
      ]
    },
    {
      "cell_type": "markdown",
      "metadata": {
        "id": "1RflcfZJd-nI",
        "colab_type": "text"
      },
      "source": [
        "### Split data\n",
        "\n",
        "split data into train and test set "
      ]
    },
    {
      "cell_type": "code",
      "metadata": {
        "id": "Vj_7lS8We57_",
        "colab_type": "code",
        "colab": {}
      },
      "source": [
        "from sklearn.model_selection import train_test_split\n",
        "\n",
        "train_data, test_data = train_test_split(data_df,stratify=data_df['clean_label'], test_size=0.2,random_state=42)"
      ],
      "execution_count": 0,
      "outputs": []
    },
    {
      "cell_type": "code",
      "metadata": {
        "id": "P1jR9BrTUykE",
        "colab_type": "code",
        "outputId": "f7fd5c36-0c92-43da-d8e0-070534a5e139",
        "colab": {
          "base_uri": "https://localhost:8080/",
          "height": 104
        }
      },
      "source": [
        "#we no longer need clean_label column\n",
        "train_data.drop('clean_label', axis=1, inplace=True)\n",
        "test_data.drop('clean_label', axis=1, inplace=True)"
      ],
      "execution_count": 0,
      "outputs": [
        {
          "output_type": "stream",
          "text": [
            "/usr/local/lib/python3.6/dist-packages/pandas/core/frame.py:3940: SettingWithCopyWarning: \n",
            "A value is trying to be set on a copy of a slice from a DataFrame\n",
            "\n",
            "See the caveats in the documentation: http://pandas.pydata.org/pandas-docs/stable/indexing.html#indexing-view-versus-copy\n",
            "  errors=errors)\n"
          ],
          "name": "stderr"
        }
      ]
    },
    {
      "cell_type": "markdown",
      "metadata": {
        "id": "bdWH2SWzVrfg",
        "colab_type": "text"
      },
      "source": [
        "## Feature Engineering for NBSVM \n",
        "\n",
        "\"Feature Engineering\" is just a fancy word for making the input work with our model.\n",
        "\n",
        "The models that we are going to tackle do not accpet varying size input, so we have to transform our input in some ways that makes the input have this property while also retaining some useful information.\n",
        "\n",
        "NBSVM (Naive Bayes - Support Vector Machine) was introduced by Sida Wang and Chris Manning in the paper Baselines and Bigrams: Simple, Good Sentiment and Topic Classiﬁcation. In this lab, we will show you how to implement NBSVM to create a strong baseline.\n",
        "\n",
        "\n",
        "reference: https://www.kaggle.com/jhoward/nb-svm-strong-linear-baseline"
      ]
    },
    {
      "cell_type": "markdown",
      "metadata": {
        "id": "rfW-kE2_Vrfi",
        "colab_type": "text"
      },
      "source": [
        "### Feature #1:  bag of words representation, as a TFIDF matrix\n",
        "In the original paper, the authors use word bigram features.  A Kaggler, Jeremy Howard, found that TFIDF features could give a better performance over  word bigram features.   \n",
        "\n",
        "## Exercise 1:  Create TFIDF features\n",
        "* choose a suitable tokenizer for TfidfVectorizer\n",
        "*  fit tfidfVectorizer on the training data\n",
        "*  transform raw text to tdidf features on the training data\n",
        "*  transform raw text to tdidf features on the test data\n"
      ]
    },
    {
      "cell_type": "code",
      "metadata": {
        "id": "09czzt5BaUV-",
        "colab_type": "code",
        "outputId": "7a54ea10-eb34-460a-9223-5276cd114223",
        "colab": {
          "base_uri": "https://localhost:8080/",
          "height": 139
        }
      },
      "source": [
        "n = len(train_data['input'])\n",
        "#Exercise 1\n",
        "# tokenizer = ######FILL YOUR CODE HERE ######\n",
        "tokenizer = pythainlp.tokenize.word_tokenize\n",
        "vec = TfidfVectorizer(ngram_range=(1,2), tokenizer=tokenizer,\n",
        "               min_df=3, max_df=0.9, strip_accents='unicode', use_idf=1,\n",
        "               smooth_idf=1, sublinear_tf=1 )\n",
        "\n",
        "#  fit tfidfVectorizer on the training data\n",
        "# transform raw text to tdidf features on the training data\n",
        "# x = ######FILL YOUR CODE HERE ######\n",
        "x = vec.fit_transform(train_data['input'])\n",
        "#  transform raw text to tdidf features on the test data\n",
        "# test_x = ######FILL YOUR CODE HERE ######\n",
        "test_x = vec.transform(test_data['input'])\n",
        "\n",
        "x.toarray()"
      ],
      "execution_count": 0,
      "outputs": [
        {
          "output_type": "execute_result",
          "data": {
            "text/plain": [
              "array([[0., 0., 0., ..., 0., 0., 0.],\n",
              "       [0., 0., 0., ..., 0., 0., 0.],\n",
              "       [0., 0., 0., ..., 0., 0., 0.],\n",
              "       ...,\n",
              "       [0., 0., 0., ..., 0., 0., 0.],\n",
              "       [0., 0., 0., ..., 0., 0., 0.],\n",
              "       [0., 0., 0., ..., 0., 0., 0.]])"
            ]
          },
          "metadata": {
            "tags": []
          },
          "execution_count": 18
        }
      ]
    },
    {
      "cell_type": "markdown",
      "metadata": {
        "id": "SQGpS-VCzv5H",
        "colab_type": "text"
      },
      "source": [
        "#### Exercise 1: solution"
      ]
    },
    {
      "cell_type": "code",
      "metadata": {
        "id": "bG9_2jZjzvQf",
        "colab_type": "code",
        "colab": {}
      },
      "source": [
        "n = len(train_data['input'])\n",
        "vec = TfidfVectorizer(ngram_range=(1,2), tokenizer=pythainlp.word_tokenize,\n",
        "               min_df=3, max_df=0.9, strip_accents='unicode', use_idf=1,\n",
        "               smooth_idf=1, sublinear_tf=1 )\n",
        "#  fit tfidfVectorizer on the training data\n",
        "# transform raw text to tdidf features on the training data\n",
        "x = vec.fit_transform(train_data['input'])\n",
        "#  transform raw text to tdidf features on the test data\n",
        "test_x = vec.transform(test_data['input'])\n"
      ],
      "execution_count": 0,
      "outputs": []
    },
    {
      "cell_type": "markdown",
      "metadata": {
        "id": "l2RX-vnYVrg1",
        "colab_type": "text"
      },
      "source": [
        "### Feature #2: Naive-Bayes Feature\n",
        "*   $\\mathbf{f}^{(i)} \\in \\mathbb{R}^{|V|}$ = the feature count vector for\n",
        "training case $i$ with label      $y^{(i)} \\in\\{0,1\\}$\n",
        "* $V$ = sets of features\n",
        "* $\\mathbf{f}_{j}^{(i)}$ =  the number of occurrences of feature $V_{j}$ in training case $i$\n",
        "*  the count vectors $\\mathbf{p}=\\alpha+\\sum_{i : y^{(i)}=1} \\mathbf{f}^{(i)}$    and   $\\mathbf{q}=\\alpha+\\sum_{i : y^{(i)}=0} \\mathbf{f}^{(i)}$ ($\\alpha$ is the smoothing parameter (let $\\alpha=1$ in this lab))\n",
        "           \n",
        "* log-count ratio: $\\mathbf{r}=\\log \\left(\\frac{\\mathbf{p} /\\|\\mathbf{p}\\|_{1}}{\\mathbf{q} /\\|\\mathbf{q}\\|_{1}}\\right)$\n",
        "\n",
        "## Exercise #2: log-count ratio\n",
        "Complete a function that returns numerator or denominator of the log-count ratio $r$\n",
        "> def pr(y_i, y):\n"
      ]
    },
    {
      "cell_type": "code",
      "metadata": {
        "id": "gsyMcBAnIqzH",
        "colab_type": "code",
        "colab": {}
      },
      "source": [
        "def pr(y_i, y):\n",
        "    #####FILL YOUR CODE HERE#####\n",
        "    alpha = 1\n",
        "    p = x[y==y_i].sum(0)\n",
        "    return (p+alpha) / (p+alpha).sum()\n",
        "    # pass#REMOVE THIS LINE"
      ],
      "execution_count": 0,
      "outputs": []
    },
    {
      "cell_type": "markdown",
      "metadata": {
        "id": "BWaLYS1GIv1G",
        "colab_type": "text"
      },
      "source": [
        "#### Exercise 2: solution"
      ]
    },
    {
      "cell_type": "code",
      "metadata": {
        "id": "biEZLBI3k5qM",
        "colab_type": "code",
        "cellView": "both",
        "colab": {}
      },
      "source": [
        "def pr(y_i, y):\n",
        "    alpha = 1\n",
        "    p = x[y==y_i].sum(0)\n",
        "    return (p+alpha) / (p+alpha).sum()"
      ],
      "execution_count": 0,
      "outputs": []
    },
    {
      "cell_type": "markdown",
      "metadata": {
        "id": "ElCv4RgVQYkK",
        "colab_type": "text"
      },
      "source": [
        "###  Fit a model for one dependent at a time:\n",
        "In this lab, we are going to train NBSVM as well as a faster/simpler NBLR by replacing an SVM component with a Logistic Regression model.\n",
        "\n",
        "NBSVM is almost identical to the SVM, except that the input feature is the element-wise product between  the input feature (TF-IDF in this experiment) and the log-count ratio.\n",
        "\n",
        "$\\mathbf{r}=\\log \\left(\\frac{\\mathbf{p} /\\|\\mathbf{p}\\|_{1}}{\\mathbf{q} /\\|\\mathbf{q}\\|_{1}}\\right)$"
      ]
    },
    {
      "cell_type": "code",
      "metadata": {
        "scrolled": true,
        "id": "JXqH9b9sVrhI",
        "colab_type": "code",
        "colab": {}
      },
      "source": [
        "def get_mdl_nbsvm(y):\n",
        "    ### FILL YOUR CODE HERE ###\n",
        "    y = y.values\n",
        "    r = np.log(pr(1,y)/pr(0,y))\n",
        "    m = svm.SVC(gamma='scale', probability=True)\n",
        "    x_nb = x.multiply(r)\n",
        "    return m.fit(x_nb, y), r\n",
        "\n",
        "\n",
        "def get_mdl_nblr(y):\n",
        "    ### FILL YOUR CODE HERE ###\n",
        "    y = y.values\n",
        "    r = np.log(pr(1,y)/pr(0,y))\n",
        "    m = LogisticRegression(C=4,max_iter=200,dual=True,solver='liblinear',random_state=42)\n",
        "    x_nb = x.multiply(r)\n",
        "    return m.fit(x_nb, y), r\n"
      ],
      "execution_count": 0,
      "outputs": []
    },
    {
      "cell_type": "markdown",
      "metadata": {
        "id": "AXX04uj50WjA",
        "colab_type": "text"
      },
      "source": [
        "#### Exercise 3: solution"
      ]
    },
    {
      "cell_type": "code",
      "metadata": {
        "id": "2FuzIhMzuM6y",
        "colab_type": "code",
        "colab": {}
      },
      "source": [
        "def get_mdl_nbsvm(y):\n",
        "    y = y.values\n",
        "    r = np.log(pr(1,y) / pr(0,y)) #log-count ratio\n",
        "    m = svm.SVC(gamma='scale',probability=True)\n",
        "    x_nb = x.multiply(r) #tfidf * r\n",
        "    return m.fit(x_nb, y), r\n",
        "\n",
        "\n",
        "def get_mdl_nblr(y):\n",
        "    y = y.values\n",
        "    r = np.log(pr(1,y) / pr(0,y)) #log-count ratio\n",
        "    m = LogisticRegression(C=4,max_iter=200,dual=True,solver='liblinear',random_state=42)\n",
        "    x_nb = x.multiply(r)  #tfidf * r\n",
        "    return m.fit(x_nb, y), r\n"
      ],
      "execution_count": 0,
      "outputs": []
    },
    {
      "cell_type": "markdown",
      "metadata": {
        "id": "PWVA0WfWxtOd",
        "colab_type": "text"
      },
      "source": [
        "## Train and Evaluate"
      ]
    },
    {
      "cell_type": "code",
      "metadata": {
        "id": "3_y8flinphQk",
        "colab_type": "code",
        "colab": {}
      },
      "source": [
        "from sklearn.metrics import f1_score\n",
        "#convert test label from one-hot to number \n",
        "unique_label_dict = {  unique_label[i]:i for i in range(0, len(unique_label) ) }\n",
        "test_label = test_data.drop('input',axis=1).idxmax(axis=1).apply(lambda x:unique_label_dict[x])"
      ],
      "execution_count": 0,
      "outputs": []
    },
    {
      "cell_type": "markdown",
      "metadata": {
        "id": "pJ5sumNiSlRH",
        "colab_type": "text"
      },
      "source": [
        "### LR - Baseline"
      ]
    },
    {
      "cell_type": "code",
      "metadata": {
        "id": "kIw5HQalSnqy",
        "colab_type": "code",
        "colab": {}
      },
      "source": [
        "def get_mdl_lr(y):\n",
        "    y = y.values\n",
        "    m = LogisticRegression(C=4,max_iter=200,dual=True,solver='liblinear',random_state=42)\n",
        "    return m.fit(x, y)\n"
      ],
      "execution_count": 0,
      "outputs": []
    },
    {
      "cell_type": "code",
      "metadata": {
        "id": "0tJ-HZ3XSw0b",
        "colab_type": "code",
        "outputId": "a535260b-ff4f-43f3-f589-f57448341eed",
        "colab": {
          "base_uri": "https://localhost:8080/",
          "height": 575
        }
      },
      "source": [
        "preds = np.zeros((len(test_data), len(unique_label)))\n",
        "\n",
        "for i, j in enumerate(unique_label):\n",
        "    print('fit', j)\n",
        "    m = get_mdl_lr(train_data[j])\n",
        "    preds[:,i] = m.predict_proba(test_x)[:,1]\n",
        "    \n",
        "print(\"LR Model Acc: %f%%\" % ((test_label == preds.argmax(axis=1)).sum() / test_data.shape[0] * 100))\n",
        "print(\"LR Model Micro f1: %f%%\" % f1_score(test_label, preds.argmax(axis=1), average='micro') )\n",
        "print(\"LR Model Macro f1: %f%%\" % f1_score(test_label, preds.argmax(axis=1), average='macro') )"
      ],
      "execution_count": 0,
      "outputs": [
        {
          "output_type": "stream",
          "text": [
            "fit payment\n",
            "fit package\n",
            "fit suspend\n",
            "fit internet\n",
            "fit phone_issues\n",
            "fit service\n",
            "fit nontruemove\n",
            "fit balance\n",
            "fit detail\n",
            "fit bill\n",
            "fit credit\n",
            "fit promotion\n",
            "fit mobile_setting\n",
            "fit iservice\n",
            "fit roaming\n",
            "fit truemoney\n",
            "fit information\n",
            "fit lost_stolen\n",
            "fit balance_minutes\n",
            "fit idd\n",
            "fit garbage\n",
            "fit ringtone\n",
            "fit rate\n",
            "fit loyalty_card\n",
            "fit contact\n",
            "fit officer\n",
            "LR Model Acc: 73.487677%\n",
            "LR Model Micro f1: 0.734877%\n",
            "LR Model Macro f1: 0.582667%\n"
          ],
          "name": "stdout"
        },
        {
          "output_type": "stream",
          "text": [
            "/usr/local/lib/python3.6/dist-packages/sklearn/metrics/classification.py:1437: UndefinedMetricWarning: F-score is ill-defined and being set to 0.0 in labels with no predicted samples.\n",
            "  'precision', 'predicted', average, warn_for)\n"
          ],
          "name": "stderr"
        }
      ]
    },
    {
      "cell_type": "markdown",
      "metadata": {
        "id": "LkZ1jISiTMXl",
        "colab_type": "text"
      },
      "source": [
        "#### NBLR"
      ]
    },
    {
      "cell_type": "code",
      "metadata": {
        "id": "IeezQO88udRn",
        "colab_type": "code",
        "outputId": "f4397988-c00c-49b5-85dc-70eb660ce9d6",
        "colab": {
          "base_uri": "https://localhost:8080/",
          "height": 575
        }
      },
      "source": [
        "preds = np.zeros((len(test_data), len(unique_label)))\n",
        "\n",
        "for i, j in enumerate(unique_label):\n",
        "    print('fit', j)\n",
        "    m,r = get_mdl_nblr(train_data[j])\n",
        "    preds[:,i] = m.predict_proba(test_x.multiply(r))[:,1]\n",
        "    \n",
        "print(\"NBLR Model Acc: %f%%\" % ((test_label == preds.argmax(axis=1)).sum() / test_data.shape[0] * 100))\n",
        "print(\"NBLR Model Micro f1: %f%%\" % f1_score(test_label, preds.argmax(axis=1), average='micro') * 100 )\n",
        "print(\"NBLR Model Macro f1: %f%%\" % f1_score(test_label, preds.argmax(axis=1), average='macro') * 100)"
      ],
      "execution_count": 0,
      "outputs": [
        {
          "output_type": "stream",
          "text": [
            "fit payment\n",
            "fit package\n",
            "fit suspend\n",
            "fit internet\n",
            "fit phone_issues\n",
            "fit service\n",
            "fit nontruemove\n",
            "fit balance\n",
            "fit detail\n",
            "fit bill\n",
            "fit credit\n",
            "fit promotion\n",
            "fit mobile_setting\n",
            "fit iservice\n",
            "fit roaming\n",
            "fit truemoney\n",
            "fit information\n",
            "fit lost_stolen\n",
            "fit balance_minutes\n",
            "fit idd\n",
            "fit garbage\n",
            "fit ringtone\n",
            "fit rate\n",
            "fit loyalty_card\n",
            "fit contact\n",
            "fit officer\n",
            "NBLR Model Acc: 73.338312%\n",
            "NBLR Model Micro f1: 0.733383%NBLR Model Micro f1: 0.733383%NBLR Model Micro f1: 0.733383%NBLR Model Micro f1: 0.733383%NBLR Model Micro f1: 0.733383%NBLR Model Micro f1: 0.733383%NBLR Model Micro f1: 0.733383%NBLR Model Micro f1: 0.733383%NBLR Model Micro f1: 0.733383%NBLR Model Micro f1: 0.733383%NBLR Model Micro f1: 0.733383%NBLR Model Micro f1: 0.733383%NBLR Model Micro f1: 0.733383%NBLR Model Micro f1: 0.733383%NBLR Model Micro f1: 0.733383%NBLR Model Micro f1: 0.733383%NBLR Model Micro f1: 0.733383%NBLR Model Micro f1: 0.733383%NBLR Model Micro f1: 0.733383%NBLR Model Micro f1: 0.733383%NBLR Model Micro f1: 0.733383%NBLR Model Micro f1: 0.733383%NBLR Model Micro f1: 0.733383%NBLR Model Micro f1: 0.733383%NBLR Model Micro f1: 0.733383%NBLR Model Micro f1: 0.733383%NBLR Model Micro f1: 0.733383%NBLR Model Micro f1: 0.733383%NBLR Model Micro f1: 0.733383%NBLR Model Micro f1: 0.733383%NBLR Model Micro f1: 0.733383%NBLR Model Micro f1: 0.733383%NBLR Model Micro f1: 0.733383%NBLR Model Micro f1: 0.733383%NBLR Model Micro f1: 0.733383%NBLR Model Micro f1: 0.733383%NBLR Model Micro f1: 0.733383%NBLR Model Micro f1: 0.733383%NBLR Model Micro f1: 0.733383%NBLR Model Micro f1: 0.733383%NBLR Model Micro f1: 0.733383%NBLR Model Micro f1: 0.733383%NBLR Model Micro f1: 0.733383%NBLR Model Micro f1: 0.733383%NBLR Model Micro f1: 0.733383%NBLR Model Micro f1: 0.733383%NBLR Model Micro f1: 0.733383%NBLR Model Micro f1: 0.733383%NBLR Model Micro f1: 0.733383%NBLR Model Micro f1: 0.733383%NBLR Model Micro f1: 0.733383%NBLR Model Micro f1: 0.733383%NBLR Model Micro f1: 0.733383%NBLR Model Micro f1: 0.733383%NBLR Model Micro f1: 0.733383%NBLR Model Micro f1: 0.733383%NBLR Model Micro f1: 0.733383%NBLR Model Micro f1: 0.733383%NBLR Model Micro f1: 0.733383%NBLR Model Micro f1: 0.733383%NBLR Model Micro f1: 0.733383%NBLR Model Micro f1: 0.733383%NBLR Model Micro f1: 0.733383%NBLR Model Micro f1: 0.733383%NBLR Model Micro f1: 0.733383%NBLR Model Micro f1: 0.733383%NBLR Model Micro f1: 0.733383%NBLR Model Micro f1: 0.733383%NBLR Model Micro f1: 0.733383%NBLR Model Micro f1: 0.733383%NBLR Model Micro f1: 0.733383%NBLR Model Micro f1: 0.733383%NBLR Model Micro f1: 0.733383%NBLR Model Micro f1: 0.733383%NBLR Model Micro f1: 0.733383%NBLR Model Micro f1: 0.733383%NBLR Model Micro f1: 0.733383%NBLR Model Micro f1: 0.733383%NBLR Model Micro f1: 0.733383%NBLR Model Micro f1: 0.733383%NBLR Model Micro f1: 0.733383%NBLR Model Micro f1: 0.733383%NBLR Model Micro f1: 0.733383%NBLR Model Micro f1: 0.733383%NBLR Model Micro f1: 0.733383%NBLR Model Micro f1: 0.733383%NBLR Model Micro f1: 0.733383%NBLR Model Micro f1: 0.733383%NBLR Model Micro f1: 0.733383%NBLR Model Micro f1: 0.733383%NBLR Model Micro f1: 0.733383%NBLR Model Micro f1: 0.733383%NBLR Model Micro f1: 0.733383%NBLR Model Micro f1: 0.733383%NBLR Model Micro f1: 0.733383%NBLR Model Micro f1: 0.733383%NBLR Model Micro f1: 0.733383%NBLR Model Micro f1: 0.733383%NBLR Model Micro f1: 0.733383%NBLR Model Micro f1: 0.733383%\n",
            "NBLR Model Macro f1: 0.593310%NBLR Model Macro f1: 0.593310%NBLR Model Macro f1: 0.593310%NBLR Model Macro f1: 0.593310%NBLR Model Macro f1: 0.593310%NBLR Model Macro f1: 0.593310%NBLR Model Macro f1: 0.593310%NBLR Model Macro f1: 0.593310%NBLR Model Macro f1: 0.593310%NBLR Model Macro f1: 0.593310%NBLR Model Macro f1: 0.593310%NBLR Model Macro f1: 0.593310%NBLR Model Macro f1: 0.593310%NBLR Model Macro f1: 0.593310%NBLR Model Macro f1: 0.593310%NBLR Model Macro f1: 0.593310%NBLR Model Macro f1: 0.593310%NBLR Model Macro f1: 0.593310%NBLR Model Macro f1: 0.593310%NBLR Model Macro f1: 0.593310%NBLR Model Macro f1: 0.593310%NBLR Model Macro f1: 0.593310%NBLR Model Macro f1: 0.593310%NBLR Model Macro f1: 0.593310%NBLR Model Macro f1: 0.593310%NBLR Model Macro f1: 0.593310%NBLR Model Macro f1: 0.593310%NBLR Model Macro f1: 0.593310%NBLR Model Macro f1: 0.593310%NBLR Model Macro f1: 0.593310%NBLR Model Macro f1: 0.593310%NBLR Model Macro f1: 0.593310%NBLR Model Macro f1: 0.593310%NBLR Model Macro f1: 0.593310%NBLR Model Macro f1: 0.593310%NBLR Model Macro f1: 0.593310%NBLR Model Macro f1: 0.593310%NBLR Model Macro f1: 0.593310%NBLR Model Macro f1: 0.593310%NBLR Model Macro f1: 0.593310%NBLR Model Macro f1: 0.593310%NBLR Model Macro f1: 0.593310%NBLR Model Macro f1: 0.593310%NBLR Model Macro f1: 0.593310%NBLR Model Macro f1: 0.593310%NBLR Model Macro f1: 0.593310%NBLR Model Macro f1: 0.593310%NBLR Model Macro f1: 0.593310%NBLR Model Macro f1: 0.593310%NBLR Model Macro f1: 0.593310%NBLR Model Macro f1: 0.593310%NBLR Model Macro f1: 0.593310%NBLR Model Macro f1: 0.593310%NBLR Model Macro f1: 0.593310%NBLR Model Macro f1: 0.593310%NBLR Model Macro f1: 0.593310%NBLR Model Macro f1: 0.593310%NBLR Model Macro f1: 0.593310%NBLR Model Macro f1: 0.593310%NBLR Model Macro f1: 0.593310%NBLR Model Macro f1: 0.593310%NBLR Model Macro f1: 0.593310%NBLR Model Macro f1: 0.593310%NBLR Model Macro f1: 0.593310%NBLR Model Macro f1: 0.593310%NBLR Model Macro f1: 0.593310%NBLR Model Macro f1: 0.593310%NBLR Model Macro f1: 0.593310%NBLR Model Macro f1: 0.593310%NBLR Model Macro f1: 0.593310%NBLR Model Macro f1: 0.593310%NBLR Model Macro f1: 0.593310%NBLR Model Macro f1: 0.593310%NBLR Model Macro f1: 0.593310%NBLR Model Macro f1: 0.593310%NBLR Model Macro f1: 0.593310%NBLR Model Macro f1: 0.593310%NBLR Model Macro f1: 0.593310%NBLR Model Macro f1: 0.593310%NBLR Model Macro f1: 0.593310%NBLR Model Macro f1: 0.593310%NBLR Model Macro f1: 0.593310%NBLR Model Macro f1: 0.593310%NBLR Model Macro f1: 0.593310%NBLR Model Macro f1: 0.593310%NBLR Model Macro f1: 0.593310%NBLR Model Macro f1: 0.593310%NBLR Model Macro f1: 0.593310%NBLR Model Macro f1: 0.593310%NBLR Model Macro f1: 0.593310%NBLR Model Macro f1: 0.593310%NBLR Model Macro f1: 0.593310%NBLR Model Macro f1: 0.593310%NBLR Model Macro f1: 0.593310%NBLR Model Macro f1: 0.593310%NBLR Model Macro f1: 0.593310%NBLR Model Macro f1: 0.593310%NBLR Model Macro f1: 0.593310%NBLR Model Macro f1: 0.593310%NBLR Model Macro f1: 0.593310%\n"
          ],
          "name": "stdout"
        },
        {
          "output_type": "stream",
          "text": [
            "/usr/local/lib/python3.6/dist-packages/sklearn/metrics/classification.py:1437: UndefinedMetricWarning: F-score is ill-defined and being set to 0.0 in labels with no predicted samples.\n",
            "  'precision', 'predicted', average, warn_for)\n"
          ],
          "name": "stderr"
        }
      ]
    },
    {
      "cell_type": "markdown",
      "metadata": {
        "id": "knTYcXLBS9P5",
        "colab_type": "text"
      },
      "source": [
        "###  now try to do it again with the NBSVM model"
      ]
    },
    {
      "cell_type": "code",
      "metadata": {
        "id": "1CN3qA2KSRYm",
        "colab_type": "code",
        "outputId": "9e796cf4-fa74-488d-8541-749817893312",
        "colab": {
          "base_uri": "https://localhost:8080/",
          "height": 575
        }
      },
      "source": [
        "preds = np.zeros((len(test_data), len(unique_label)))\n",
        "\n",
        "for i, j in enumerate(unique_label):\n",
        "    print('fit', j)\n",
        "    m,r = get_mdl_nbsvm(train_data[j])\n",
        "    preds[:,i] = m.predict_proba(test_x.multiply(r))[:,1]\n",
        "    \n",
        "print(\"NBSVM Model Acc: %f%%\" % ((test_label == preds.argmax(axis=1)).sum() / test_data.shape[0] * 100))\n",
        "print(\"NBSVM Model Micro f1: %f%%\" % f1_score(test_label, preds.argmax(axis=1), average='micro') * 100 )\n",
        "print(\"NBSVM Model Macro f1: %f%%\" % f1_score(test_label, preds.argmax(axis=1), average='macro') * 100)"
      ],
      "execution_count": 0,
      "outputs": [
        {
          "output_type": "stream",
          "text": [
            "fit payment\n",
            "fit package\n",
            "fit suspend\n",
            "fit internet\n",
            "fit phone_issues\n",
            "fit service\n",
            "fit nontruemove\n",
            "fit balance\n",
            "fit detail\n",
            "fit bill\n",
            "fit credit\n",
            "fit promotion\n",
            "fit mobile_setting\n",
            "fit iservice\n",
            "fit roaming\n",
            "fit truemoney\n",
            "fit information\n",
            "fit lost_stolen\n",
            "fit balance_minutes\n",
            "fit idd\n",
            "fit garbage\n",
            "fit ringtone\n",
            "fit rate\n",
            "fit loyalty_card\n",
            "fit contact\n",
            "fit officer\n",
            "NBSVM Model Acc: 72.442121%\n",
            "NBSVM Model Micro f1: 0.724421%NBSVM Model Micro f1: 0.724421%NBSVM Model Micro f1: 0.724421%NBSVM Model Micro f1: 0.724421%NBSVM Model Micro f1: 0.724421%NBSVM Model Micro f1: 0.724421%NBSVM Model Micro f1: 0.724421%NBSVM Model Micro f1: 0.724421%NBSVM Model Micro f1: 0.724421%NBSVM Model Micro f1: 0.724421%NBSVM Model Micro f1: 0.724421%NBSVM Model Micro f1: 0.724421%NBSVM Model Micro f1: 0.724421%NBSVM Model Micro f1: 0.724421%NBSVM Model Micro f1: 0.724421%NBSVM Model Micro f1: 0.724421%NBSVM Model Micro f1: 0.724421%NBSVM Model Micro f1: 0.724421%NBSVM Model Micro f1: 0.724421%NBSVM Model Micro f1: 0.724421%NBSVM Model Micro f1: 0.724421%NBSVM Model Micro f1: 0.724421%NBSVM Model Micro f1: 0.724421%NBSVM Model Micro f1: 0.724421%NBSVM Model Micro f1: 0.724421%NBSVM Model Micro f1: 0.724421%NBSVM Model Micro f1: 0.724421%NBSVM Model Micro f1: 0.724421%NBSVM Model Micro f1: 0.724421%NBSVM Model Micro f1: 0.724421%NBSVM Model Micro f1: 0.724421%NBSVM Model Micro f1: 0.724421%NBSVM Model Micro f1: 0.724421%NBSVM Model Micro f1: 0.724421%NBSVM Model Micro f1: 0.724421%NBSVM Model Micro f1: 0.724421%NBSVM Model Micro f1: 0.724421%NBSVM Model Micro f1: 0.724421%NBSVM Model Micro f1: 0.724421%NBSVM Model Micro f1: 0.724421%NBSVM Model Micro f1: 0.724421%NBSVM Model Micro f1: 0.724421%NBSVM Model Micro f1: 0.724421%NBSVM Model Micro f1: 0.724421%NBSVM Model Micro f1: 0.724421%NBSVM Model Micro f1: 0.724421%NBSVM Model Micro f1: 0.724421%NBSVM Model Micro f1: 0.724421%NBSVM Model Micro f1: 0.724421%NBSVM Model Micro f1: 0.724421%NBSVM Model Micro f1: 0.724421%NBSVM Model Micro f1: 0.724421%NBSVM Model Micro f1: 0.724421%NBSVM Model Micro f1: 0.724421%NBSVM Model Micro f1: 0.724421%NBSVM Model Micro f1: 0.724421%NBSVM Model Micro f1: 0.724421%NBSVM Model Micro f1: 0.724421%NBSVM Model Micro f1: 0.724421%NBSVM Model Micro f1: 0.724421%NBSVM Model Micro f1: 0.724421%NBSVM Model Micro f1: 0.724421%NBSVM Model Micro f1: 0.724421%NBSVM Model Micro f1: 0.724421%NBSVM Model Micro f1: 0.724421%NBSVM Model Micro f1: 0.724421%NBSVM Model Micro f1: 0.724421%NBSVM Model Micro f1: 0.724421%NBSVM Model Micro f1: 0.724421%NBSVM Model Micro f1: 0.724421%NBSVM Model Micro f1: 0.724421%NBSVM Model Micro f1: 0.724421%NBSVM Model Micro f1: 0.724421%NBSVM Model Micro f1: 0.724421%NBSVM Model Micro f1: 0.724421%NBSVM Model Micro f1: 0.724421%NBSVM Model Micro f1: 0.724421%NBSVM Model Micro f1: 0.724421%NBSVM Model Micro f1: 0.724421%NBSVM Model Micro f1: 0.724421%NBSVM Model Micro f1: 0.724421%NBSVM Model Micro f1: 0.724421%NBSVM Model Micro f1: 0.724421%NBSVM Model Micro f1: 0.724421%NBSVM Model Micro f1: 0.724421%NBSVM Model Micro f1: 0.724421%NBSVM Model Micro f1: 0.724421%NBSVM Model Micro f1: 0.724421%NBSVM Model Micro f1: 0.724421%NBSVM Model Micro f1: 0.724421%NBSVM Model Micro f1: 0.724421%NBSVM Model Micro f1: 0.724421%NBSVM Model Micro f1: 0.724421%NBSVM Model Micro f1: 0.724421%NBSVM Model Micro f1: 0.724421%NBSVM Model Micro f1: 0.724421%NBSVM Model Micro f1: 0.724421%NBSVM Model Micro f1: 0.724421%NBSVM Model Micro f1: 0.724421%NBSVM Model Micro f1: 0.724421%\n",
            "NBSVM Model Macro f1: 0.602175%NBSVM Model Macro f1: 0.602175%NBSVM Model Macro f1: 0.602175%NBSVM Model Macro f1: 0.602175%NBSVM Model Macro f1: 0.602175%NBSVM Model Macro f1: 0.602175%NBSVM Model Macro f1: 0.602175%NBSVM Model Macro f1: 0.602175%NBSVM Model Macro f1: 0.602175%NBSVM Model Macro f1: 0.602175%NBSVM Model Macro f1: 0.602175%NBSVM Model Macro f1: 0.602175%NBSVM Model Macro f1: 0.602175%NBSVM Model Macro f1: 0.602175%NBSVM Model Macro f1: 0.602175%NBSVM Model Macro f1: 0.602175%NBSVM Model Macro f1: 0.602175%NBSVM Model Macro f1: 0.602175%NBSVM Model Macro f1: 0.602175%NBSVM Model Macro f1: 0.602175%NBSVM Model Macro f1: 0.602175%NBSVM Model Macro f1: 0.602175%NBSVM Model Macro f1: 0.602175%NBSVM Model Macro f1: 0.602175%NBSVM Model Macro f1: 0.602175%NBSVM Model Macro f1: 0.602175%NBSVM Model Macro f1: 0.602175%NBSVM Model Macro f1: 0.602175%NBSVM Model Macro f1: 0.602175%NBSVM Model Macro f1: 0.602175%NBSVM Model Macro f1: 0.602175%NBSVM Model Macro f1: 0.602175%NBSVM Model Macro f1: 0.602175%NBSVM Model Macro f1: 0.602175%NBSVM Model Macro f1: 0.602175%NBSVM Model Macro f1: 0.602175%NBSVM Model Macro f1: 0.602175%NBSVM Model Macro f1: 0.602175%NBSVM Model Macro f1: 0.602175%NBSVM Model Macro f1: 0.602175%NBSVM Model Macro f1: 0.602175%NBSVM Model Macro f1: 0.602175%NBSVM Model Macro f1: 0.602175%NBSVM Model Macro f1: 0.602175%NBSVM Model Macro f1: 0.602175%NBSVM Model Macro f1: 0.602175%NBSVM Model Macro f1: 0.602175%NBSVM Model Macro f1: 0.602175%NBSVM Model Macro f1: 0.602175%NBSVM Model Macro f1: 0.602175%NBSVM Model Macro f1: 0.602175%NBSVM Model Macro f1: 0.602175%NBSVM Model Macro f1: 0.602175%NBSVM Model Macro f1: 0.602175%NBSVM Model Macro f1: 0.602175%NBSVM Model Macro f1: 0.602175%NBSVM Model Macro f1: 0.602175%NBSVM Model Macro f1: 0.602175%NBSVM Model Macro f1: 0.602175%NBSVM Model Macro f1: 0.602175%NBSVM Model Macro f1: 0.602175%NBSVM Model Macro f1: 0.602175%NBSVM Model Macro f1: 0.602175%NBSVM Model Macro f1: 0.602175%NBSVM Model Macro f1: 0.602175%NBSVM Model Macro f1: 0.602175%NBSVM Model Macro f1: 0.602175%NBSVM Model Macro f1: 0.602175%NBSVM Model Macro f1: 0.602175%NBSVM Model Macro f1: 0.602175%NBSVM Model Macro f1: 0.602175%NBSVM Model Macro f1: 0.602175%NBSVM Model Macro f1: 0.602175%NBSVM Model Macro f1: 0.602175%NBSVM Model Macro f1: 0.602175%NBSVM Model Macro f1: 0.602175%NBSVM Model Macro f1: 0.602175%NBSVM Model Macro f1: 0.602175%NBSVM Model Macro f1: 0.602175%NBSVM Model Macro f1: 0.602175%NBSVM Model Macro f1: 0.602175%NBSVM Model Macro f1: 0.602175%NBSVM Model Macro f1: 0.602175%NBSVM Model Macro f1: 0.602175%NBSVM Model Macro f1: 0.602175%NBSVM Model Macro f1: 0.602175%NBSVM Model Macro f1: 0.602175%NBSVM Model Macro f1: 0.602175%NBSVM Model Macro f1: 0.602175%NBSVM Model Macro f1: 0.602175%NBSVM Model Macro f1: 0.602175%NBSVM Model Macro f1: 0.602175%NBSVM Model Macro f1: 0.602175%NBSVM Model Macro f1: 0.602175%NBSVM Model Macro f1: 0.602175%NBSVM Model Macro f1: 0.602175%NBSVM Model Macro f1: 0.602175%NBSVM Model Macro f1: 0.602175%NBSVM Model Macro f1: 0.602175%NBSVM Model Macro f1: 0.602175%\n"
          ],
          "name": "stdout"
        },
        {
          "output_type": "stream",
          "text": [
            "/usr/local/lib/python3.6/dist-packages/sklearn/metrics/classification.py:1437: UndefinedMetricWarning: F-score is ill-defined and being set to 0.0 in labels with no predicted samples.\n",
            "  'precision', 'predicted', average, warn_for)\n"
          ],
          "name": "stderr"
        }
      ]
    },
    {
      "cell_type": "code",
      "metadata": {
        "id": "HG-EmhSInwAz",
        "colab_type": "code",
        "colab": {}
      },
      "source": [
        ""
      ],
      "execution_count": 0,
      "outputs": []
    }
  ]
}